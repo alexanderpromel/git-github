{
  "nbformat": 4,
  "nbformat_minor": 0,
  "metadata": {
    "colab": {
      "name": "Untitled54.ipynb",
      "provenance": [],
      "collapsed_sections": [],
      "authorship_tag": "ABX9TyN7qbtm4I6vxMYFn/k/IKSE",
      "include_colab_link": true
    },
    "kernelspec": {
      "name": "python3",
      "display_name": "Python 3"
    },
    "language_info": {
      "name": "python"
    }
  },
  "cells": [
    {
      "cell_type": "markdown",
      "metadata": {
        "id": "view-in-github",
        "colab_type": "text"
      },
      "source": [
        "<a href=\"https://colab.research.google.com/github/alexanderpromel/git-github/blob/main/Untitled54.ipynb\" target=\"_parent\"><img src=\"https://colab.research.google.com/assets/colab-badge.svg\" alt=\"Open In Colab\"/></a>"
      ]
    },
    {
      "cell_type": "code",
      "execution_count": 1,
      "metadata": {
        "id": "5UAHu1aijROm"
      },
      "outputs": [],
      "source": [
        "import os\n",
        "from flask import Flask"
      ]
    },
    {
      "cell_type": "code",
      "source": [
        "app = Flask(__name__)"
      ],
      "metadata": {
        "id": "_P8QSQNyjX_H"
      },
      "execution_count": 2,
      "outputs": []
    },
    {
      "cell_type": "code",
      "source": [
        "app.route(\"/\")\n",
        "def main():\n",
        "  return \"Welcome!\"\n"
      ],
      "metadata": {
        "id": "IdnRqCecjgXB"
      },
      "execution_count": 17,
      "outputs": []
    },
    {
      "cell_type": "code",
      "source": [
        "app.route(\"How are you\")\n",
        "def hello():\n",
        "  return \"I am good how about you?\""
      ],
      "metadata": {
        "id": "xpfkFaSekLSy"
      },
      "execution_count": 18,
      "outputs": []
    },
    {
      "cell_type": "code",
      "source": [
        "if \"__name__\" == \"__main__\":\n",
        "  app.run()"
      ],
      "metadata": {
        "id": "ui0k1LLVlDbZ"
      },
      "execution_count": 19,
      "outputs": []
    }
  ]
}